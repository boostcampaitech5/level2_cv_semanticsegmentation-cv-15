{
 "cells": [
  {
   "cell_type": "markdown",
   "id": "fccbeddc-594e-4200-86b7-077a2d11ca0e",
   "metadata": {},
   "source": [
    "# 1. Import"
   ]
  },
  {
   "cell_type": "code",
   "execution_count": null,
   "id": "65f0cc17-fa1d-4056-b356-8bc99aa2411a",
   "metadata": {},
   "outputs": [],
   "source": [
    "# python native\n",
    "import os\n",
    "import json\n",
    "import random\n",
    "import datetime\n",
    "from functools import partial\n",
    "\n",
    "# external library\n",
    "import cv2\n",
    "import numpy as np\n",
    "import pandas as pd\n",
    "from tqdm.auto import tqdm\n",
    "import albumentations as A\n",
    "\n",
    "# torch\n",
    "import torch\n",
    "import torch.nn as nn\n",
    "import torch.nn.functional as F\n",
    "import torch.optim as optim\n",
    "from torch.utils.data import Dataset, DataLoader\n",
    "from torchvision import models\n",
    "\n",
    "# visualization\n",
    "import matplotlib.pyplot as plt"
   ]
  },
  {
   "cell_type": "markdown",
   "id": "a48c1737-4b96-4ace-b854-19ab8314ba51",
   "metadata": {},
   "source": [
    "# 2. Model"
   ]
  },
  {
   "cell_type": "code",
   "execution_count": null,
   "id": "e91cc76b-a8d9-4548-91e3-238bf91f5f07",
   "metadata": {},
   "outputs": [],
   "source": [
    "# # jupyter command 에서 library download 하기\n",
    "# !pip install git+https://github.com/qubvel/segmentation_models.pytorch\n",
    "# import segmentation_models_pytorch as smp\n",
    "\n",
    "# # model 불러오기\n",
    "# # 출력 label 수 정의 (classes=29)\n",
    "# model = smp.UnetPlusPlus(\n",
    "#     encoder_name=\"tu-densenet201\", # choose encoder, e.g. mobilenet_v2 or efficientnet-b7\n",
    "#     encoder_weights=\"imagenet\",     # use `imagenet` pre-trained weights for encoder initialization\n",
    "#     in_channels=3,                  # model input channels (1 for gray-scale images, 3 for RGB, etc.)\n",
    "#     classes=29,                     # model output channels (number of classes in your dataset)\n",
    "# )"
   ]
  },
  {
   "cell_type": "markdown",
   "id": "dce7f5c4-8ee0-4403-94b2-733c38f64589",
   "metadata": {},
   "source": [
    "# 3. Path setting"
   ]
  },
  {
   "cell_type": "code",
   "execution_count": null,
   "id": "7502042b-7f95-4c63-8378-c6fc31f0b0da",
   "metadata": {},
   "outputs": [],
   "source": [
    "PT_PATH = \"/opt/ml/level2_cv_semanticsegmentation-cv-15/codebook/ensemble_pt/\"\n",
    "\n",
    "pt_list = os.listdir(PT_PATH)\n",
    "pt_list = [pt for pt in pt_list if pt[-2:] == 'pt']\n",
    "# pt_list = [\"UNetplusplus_densenet_1024_BEST_MODEL.pt\"]\n",
    "num_pt = len(pt_list)\n",
    "print(pt_list)"
   ]
  },
  {
   "cell_type": "markdown",
   "id": "1a1f1269-5c7d-4689-83dd-64d2a781abf6",
   "metadata": {},
   "source": [
    "# 4. Dataset"
   ]
  },
  {
   "cell_type": "code",
   "execution_count": null,
   "id": "dafe9f64-d415-44bf-b444-2fbc5a400e63",
   "metadata": {},
   "outputs": [],
   "source": [
    "CLASSES = [\n",
    "    'finger-1', 'finger-2', 'finger-3', 'finger-4', 'finger-5',\n",
    "    'finger-6', 'finger-7', 'finger-8', 'finger-9', 'finger-10',\n",
    "    'finger-11', 'finger-12', 'finger-13', 'finger-14', 'finger-15',\n",
    "    'finger-16', 'finger-17', 'finger-18', 'finger-19', 'Trapezium',\n",
    "    'Trapezoid', 'Capitate', 'Hamate', 'Scaphoid', 'Lunate',\n",
    "    'Triquetrum', 'Pisiform', 'Radius', 'Ulna',\n",
    "]"
   ]
  },
  {
   "cell_type": "code",
   "execution_count": null,
   "id": "123e97d8-904a-4404-8099-bae53c735952",
   "metadata": {},
   "outputs": [],
   "source": [
    "CLASS2IND = {v: i for i, v in enumerate(CLASSES)}"
   ]
  },
  {
   "cell_type": "code",
   "execution_count": null,
   "id": "94fb25db-e9c0-4180-9dfd-7efed6939339",
   "metadata": {},
   "outputs": [],
   "source": [
    "IND2CLASS = {v: k for k, v in CLASS2IND.items()}"
   ]
  },
  {
   "cell_type": "code",
   "execution_count": null,
   "id": "c35a83bc-8879-4598-a697-d94220a84a88",
   "metadata": {},
   "outputs": [],
   "source": [
    "# 테스트 데이터 경로를 입력하세요\n",
    "IMAGE_ROOT = \"/opt/ml/input/data/test/DCM\""
   ]
  },
  {
   "cell_type": "code",
   "execution_count": null,
   "id": "46c4c6f2-a92e-4d99-9965-1f972ba2d00d",
   "metadata": {},
   "outputs": [],
   "source": [
    "pngs = {\n",
    "    os.path.relpath(os.path.join(root, fname), start=IMAGE_ROOT)\n",
    "    for root, _dirs, files in os.walk(IMAGE_ROOT)\n",
    "    for fname in files\n",
    "    if os.path.splitext(fname)[1].lower() == \".png\" and os.path.splitext(fname)[1].lower() != \".ipynb_checkpoints\"\n",
    "}"
   ]
  },
  {
   "cell_type": "code",
   "execution_count": null,
   "id": "12d521f8-a97a-4f5c-8705-c55302982620",
   "metadata": {},
   "outputs": [],
   "source": [
    "# mask map으로 나오는 인퍼런스 결과를 RLE로 인코딩 합니다.\n",
    "\n",
    "def encode_mask_to_rle(mask):\n",
    "    '''\n",
    "    mask: numpy array binary mask \n",
    "    1 - mask \n",
    "    0 - background\n",
    "    Returns encoded run length \n",
    "    '''\n",
    "    pixels = mask.flatten()\n",
    "    pixels = np.concatenate([[0], pixels, [0]])\n",
    "    runs = np.where(pixels[1:] != pixels[:-1])[0] + 1\n",
    "    runs[1::2] -= runs[::2]\n",
    "    return ' '.join(str(x) for x in runs)"
   ]
  },
  {
   "cell_type": "code",
   "execution_count": null,
   "id": "1ebbd59f-227c-4056-9ac1-0bbd642d370d",
   "metadata": {},
   "outputs": [],
   "source": [
    "# RLE로 인코딩된 결과를 mask map으로 복원합니다.\n",
    "\n",
    "def decode_rle_to_mask(rle, height, width):\n",
    "    s = rle.split()\n",
    "    starts, lengths = [np.asarray(x, dtype=int) for x in (s[0:][::2], s[1:][::2])]\n",
    "    starts -= 1\n",
    "    ends = starts + lengths\n",
    "    img = np.zeros(height * width, dtype=np.uint8)\n",
    "    \n",
    "    for lo, hi in zip(starts, ends):\n",
    "        img[lo:hi] = 1\n",
    "    \n",
    "    return img.reshape(height, width)"
   ]
  },
  {
   "cell_type": "code",
   "execution_count": null,
   "id": "8a770eb7-710f-4dd5-8891-24cef9215ad4",
   "metadata": {},
   "outputs": [],
   "source": [
    "class XRayInferenceDataset(Dataset):\n",
    "    def __init__(self, transforms=None):\n",
    "        _filenames = pngs\n",
    "        _filenames = np.array(sorted(_filenames))\n",
    "        \n",
    "        self.filenames = _filenames\n",
    "        self.transforms = transforms\n",
    "    \n",
    "    def __len__(self):\n",
    "        return len(self.filenames)\n",
    "    \n",
    "    def __getitem__(self, item):\n",
    "        image_name = self.filenames[item]\n",
    "        image_path = os.path.join(IMAGE_ROOT, image_name)\n",
    "        \n",
    "        image = cv2.imread(image_path)\n",
    "        \n",
    "        if self.transforms is not None:\n",
    "            inputs = {\"image\": image}\n",
    "            result = self.transforms(**inputs)\n",
    "            image = result[\"image\"]\n",
    "            \n",
    "        image = image / 255.\n",
    "\n",
    "        # to tenser will be done later\n",
    "        image = image.transpose(2, 0, 1)    # make channel first\n",
    "        \n",
    "        image = torch.from_numpy(image).float()\n",
    "            \n",
    "        return image, image_name"
   ]
  },
  {
   "cell_type": "code",
   "execution_count": null,
   "id": "9b1f3c02-dba9-49a3-83b5-4ebb80f48038",
   "metadata": {},
   "outputs": [],
   "source": [
    "tf = A.Compose([\n",
    "    A.CLAHE(p=1.0),\n",
    "    A.Resize(1024, 1024),\n",
    "])"
   ]
  },
  {
   "cell_type": "code",
   "execution_count": null,
   "id": "7da26016-e1f0-4b14-82c6-12780a0f1c2c",
   "metadata": {},
   "outputs": [],
   "source": [
    "test_dataset = XRayInferenceDataset(transforms=tf)"
   ]
  },
  {
   "cell_type": "code",
   "execution_count": null,
   "id": "23cc7a93-60e5-4bb6-99a2-a483c5d52137",
   "metadata": {},
   "outputs": [],
   "source": [
    "test_loader = DataLoader(\n",
    "    dataset=test_dataset, \n",
    "    batch_size=4,\n",
    "    shuffle=False,\n",
    "    num_workers=4,\n",
    "    drop_last=False\n",
    ")"
   ]
  },
  {
   "cell_type": "markdown",
   "id": "d89c8197-3fbf-4437-abf3-6f477326c8f3",
   "metadata": {},
   "source": [
    "# 5. Ensemble"
   ]
  },
  {
   "cell_type": "code",
   "execution_count": null,
   "id": "529bca84-eed2-48c2-b431-27cdbaa20e4b",
   "metadata": {},
   "outputs": [],
   "source": [
    "def test(data_loader, thr=0.5):\n",
    "    rles = []\n",
    "    filename_and_class = []\n",
    "    outputs_sum = [torch.zeros(4, 29, 1024, 1024) for _ in range(75)]\n",
    "    image_names_list = []\n",
    "    for model in pt_list:\n",
    "        model = torch.load(os.path.join(PT_PATH, model))\n",
    "        model = model.cuda()\n",
    "        model.eval()\n",
    "\n",
    "        with torch.no_grad():\n",
    "            n_class = len(CLASSES)\n",
    "            \n",
    "            for step, (images, image_names) in tqdm(enumerate(data_loader), total=len(data_loader)):\n",
    "                images = images.cuda()    \n",
    "                outputs = model(images)\n",
    "                outputs_sum[step] = outputs_sum[step] + outputs.cpu()\n",
    "                image_names_list.append(list(image_names))\n",
    "\n",
    "    image_names_list=image_names_list[:75]\n",
    "    for ensemble_outputs, image_names in tqdm(zip(outputs_sum, image_names_list)):\n",
    "        outputs = ensemble_outputs / num_pt\n",
    "        # restore original size\n",
    "        outputs = F.interpolate(outputs, size=(2048, 2048), mode=\"bilinear\")\n",
    "        outputs = torch.sigmoid(outputs)\n",
    "        outputs = (outputs > thr).detach().cpu().numpy()\n",
    "\n",
    "        for output, image_name in zip(outputs, image_names):\n",
    "            for c, segm in enumerate(output):\n",
    "                rle = encode_mask_to_rle(segm)\n",
    "                rles.append(rle)\n",
    "                filename_and_class.append(f\"{IND2CLASS[c]}_{image_name}\")\n",
    "\n",
    "    return rles, filename_and_class, image_names_list"
   ]
  },
  {
   "cell_type": "code",
   "execution_count": null,
   "id": "ce89e023-0261-452a-857f-91963a3e488e",
   "metadata": {
    "scrolled": true
   },
   "outputs": [],
   "source": [
    "rles, filename_and_class, image_names_list = test(test_loader)"
   ]
  },
  {
   "cell_type": "markdown",
   "id": "91f5aecf-40b5-47a3-ada0-0828e7a085ad",
   "metadata": {},
   "source": [
    "# 6. Visaulization"
   ]
  },
  {
   "cell_type": "code",
   "execution_count": null,
   "id": "27f1349c-76df-4be1-aceb-b508ea0490af",
   "metadata": {},
   "outputs": [],
   "source": [
    "filename_and_class[0]"
   ]
  },
  {
   "cell_type": "code",
   "execution_count": null,
   "id": "9943bf72-e35f-4681-9dc4-97d793f0fc1a",
   "metadata": {},
   "outputs": [],
   "source": [
    "image = cv2.imread(os.path.join(IMAGE_ROOT, filename_and_class[0].split(\"_\")[1]))"
   ]
  },
  {
   "cell_type": "code",
   "execution_count": null,
   "id": "86b5447c-2366-4f9d-92cb-f47c5e5603a5",
   "metadata": {},
   "outputs": [],
   "source": [
    "preds = []\n",
    "for rle in rles[:len(CLASSES)]:\n",
    "    pred = decode_rle_to_mask(rle, height=2048, width=2048)\n",
    "    preds.append(pred)\n",
    "\n",
    "preds = np.stack(preds, 0)"
   ]
  },
  {
   "cell_type": "code",
   "execution_count": null,
   "id": "66650ef6-2ae2-45d7-a675-c9e3a18fda1c",
   "metadata": {},
   "outputs": [],
   "source": [
    "# define colors\n",
    "PALETTE = [\n",
    "    (220, 20, 60), (119, 11, 32), (0, 0, 142), (0, 0, 230), (106, 0, 228),\n",
    "    (0, 60, 100), (0, 80, 100), (0, 0, 70), (0, 0, 192), (250, 170, 30),\n",
    "    (100, 170, 30), (220, 220, 0), (175, 116, 175), (250, 0, 30), (165, 42, 42),\n",
    "    (255, 77, 255), (0, 226, 252), (182, 182, 255), (0, 82, 0), (120, 166, 157),\n",
    "    (110, 76, 0), (174, 57, 255), (199, 100, 0), (72, 0, 118), (255, 179, 240),\n",
    "    (0, 125, 92), (209, 0, 151), (188, 208, 182), (0, 220, 176),\n",
    "]\n",
    "\n",
    "# utility function\n",
    "# this does not care overlap\n",
    "def label2rgb(label):\n",
    "    image_size = label.shape[1:] + (3, )\n",
    "    image = np.zeros(image_size, dtype=np.uint8)\n",
    "    \n",
    "    for i, class_label in enumerate(label):\n",
    "        image[class_label == 1] = PALETTE[i]\n",
    "        \n",
    "    return image"
   ]
  },
  {
   "cell_type": "code",
   "execution_count": null,
   "id": "e8c4096e-3ecc-4511-9d2b-bef715f2f9ec",
   "metadata": {},
   "outputs": [],
   "source": [
    "fig, ax = plt.subplots(1, 2, figsize=(24, 12))\n",
    "ax[0].imshow(image)    # remove channel dimension\n",
    "ax[1].imshow(label2rgb(preds))\n",
    "\n",
    "plt.show()"
   ]
  },
  {
   "cell_type": "markdown",
   "id": "09b1e495-ad9c-40d6-8432-2ad70e333a18",
   "metadata": {},
   "source": [
    "# 7. To csv"
   ]
  },
  {
   "cell_type": "code",
   "execution_count": null,
   "id": "eb171c16-0171-4d59-ad07-9a516db15d1b",
   "metadata": {},
   "outputs": [],
   "source": [
    "classes, filename = zip(*[x.split(\"_\") for x in filename_and_class])"
   ]
  },
  {
   "cell_type": "code",
   "execution_count": null,
   "id": "da097fbd-ff5f-4b5c-9865-b6175e596212",
   "metadata": {
    "scrolled": true
   },
   "outputs": [],
   "source": [
    "print(image_names_list)"
   ]
  },
  {
   "cell_type": "code",
   "execution_count": null,
   "id": "1ef081dc-e582-4b87-b436-19d34a21cae5",
   "metadata": {},
   "outputs": [],
   "source": [
    "image_name = [os.path.basename(f) for f in filename]"
   ]
  },
  {
   "cell_type": "code",
   "execution_count": null,
   "id": "e2c494e2-d919-4895-9b1d-8d3e3bb735fb",
   "metadata": {},
   "outputs": [],
   "source": [
    "print(len(image_name),len(classes),len(rles))"
   ]
  },
  {
   "cell_type": "code",
   "execution_count": null,
   "id": "ace2786f-8507-448e-b2ae-04a601f5952a",
   "metadata": {},
   "outputs": [],
   "source": [
    "df = pd.DataFrame({\n",
    "    \"image_name\": image_name,\n",
    "    \"class\": classes,\n",
    "    \"rle\": rles,\n",
    "})"
   ]
  },
  {
   "cell_type": "code",
   "execution_count": null,
   "id": "dcb60b48-9ca5-4cc1-81c2-edcf87389e93",
   "metadata": {},
   "outputs": [],
   "source": [
    "df.head(30)"
   ]
  },
  {
   "cell_type": "code",
   "execution_count": null,
   "id": "30b87ab5-9ffb-4846-8fbd-84f83a2606b3",
   "metadata": {},
   "outputs": [],
   "source": [
    "if not os.path.exists('ensemble_results'):\n",
    "    os.mkdir('ensemble_results')\n",
    "\n",
    "file_path = os.path.join('/opt/ml/level2_cv_semanticsegmentation-cv-15/codebook/ensemble_results', 'ensemble.csv')\n",
    "df.to_csv(file_path, index=False)"
   ]
  }
 ],
 "metadata": {
  "kernelspec": {
   "display_name": "Python 3 (ipykernel)",
   "language": "python",
   "name": "python3"
  },
  "language_info": {
   "codemirror_mode": {
    "name": "ipython",
    "version": 3
   },
   "file_extension": ".py",
   "mimetype": "text/x-python",
   "name": "python",
   "nbconvert_exporter": "python",
   "pygments_lexer": "ipython3",
   "version": "3.8.5"
  }
 },
 "nbformat": 4,
 "nbformat_minor": 5
}
