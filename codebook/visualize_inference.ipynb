{
 "cells": [
  {
   "cell_type": "code",
   "execution_count": null,
   "metadata": {},
   "outputs": [],
   "source": [
    "import os\n",
    "import pandas as pd\n",
    "import numpy as np\n",
    "import matplotlib.pyplot as plt\n",
    "import cv2"
   ]
  },
  {
   "attachments": {},
   "cell_type": "markdown",
   "metadata": {},
   "source": [
    "### Get test image file names"
   ]
  },
  {
   "cell_type": "code",
   "execution_count": null,
   "metadata": {},
   "outputs": [],
   "source": [
    "IMAGE_PATH = \"/opt/ml/input/data/test/DCM\"\n",
    "image_folders = os.listdir(IMAGE_PATH)\n",
    "image_folders.sort()\n",
    "print(image_folders)\n",
    "image_paths = []\n",
    "for file in image_folders:\n",
    "    image_paths.extend([os.path.join(IMAGE_PATH, file, _) for _ in os.listdir(os.path.join(IMAGE_PATH, file))])\n",
    "print(len(image_paths))\n",
    "print(image_paths[:2])"
   ]
  },
  {
   "attachments": {},
   "cell_type": "markdown",
   "metadata": {},
   "source": [
    "### Get target csv file"
   ]
  },
  {
   "cell_type": "code",
   "execution_count": null,
   "metadata": {},
   "outputs": [],
   "source": [
    "CSV_PATH = \"/opt/ml/level2_cv_semanticsegmentation-cv-15/codebook/ensemble/output (1).csv\"\n",
    "df = pd.read_csv(CSV_PATH).fillna(\"\")\n",
    "MAX_LENGTH = len(df)\n",
    "print(MAX_LENGTH)"
   ]
  },
  {
   "attachments": {},
   "cell_type": "markdown",
   "metadata": {},
   "source": [
    "### Prepare pallete"
   ]
  },
  {
   "cell_type": "code",
   "execution_count": null,
   "metadata": {},
   "outputs": [],
   "source": [
    "PALETTE = [\n",
    "    (220, 20, 60), (119, 11, 32), (0, 0, 142), (0, 0, 230), (106, 0, 228),\n",
    "    (0, 60, 100), (0, 80, 100), (0, 0, 70), (0, 0, 192), (250, 170, 30),\n",
    "    (100, 170, 30), (220, 220, 0), (175, 116, 175), (250, 0, 30), (165, 42, 42),\n",
    "    (255, 77, 255), (0, 226, 252), (182, 182, 255), (0, 82, 0), (120, 166, 157),\n",
    "    (110, 76, 0), (174, 57, 255), (199, 100, 0), (72, 0, 118), (255, 179, 240),\n",
    "    (0, 125, 92), (209, 0, 151), (188, 208, 182), (0, 220, 176),\n",
    "]"
   ]
  },
  {
   "attachments": {},
   "cell_type": "markdown",
   "metadata": {},
   "source": [
    "### Visualize"
   ]
  },
  {
   "cell_type": "code",
   "execution_count": null,
   "metadata": {},
   "outputs": [],
   "source": [
    "for img_num in range(0, 29 * 5, 29):\n",
    "    number = 0\n",
    "    for number, image_path in enumerate(image_paths):\n",
    "        if image_path.find(df[\"image_name\"][img_num]) != -1:\n",
    "            break\n",
    "    img = cv2.imread(image_paths[number])\n",
    "    result_img = np.zeros(img.shape, dtype=np.uint8)\n",
    "\n",
    "    for chan_num, color in enumerate(PALETTE):\n",
    "        if df[\"rle\"][img_num + chan_num] == \"\":\n",
    "            continue\n",
    "        split_numbers = list(map(int, df[\"rle\"][img_num + chan_num].split(\" \")))\n",
    "        pixel_list = []\n",
    "        for i in range(0, len(split_numbers), 2):\n",
    "            for j in range(split_numbers[i+1]):\n",
    "                pixel_list.append(j + split_numbers[i])\n",
    "        for pixel in pixel_list:\n",
    "            result_img[pixel // 2048][pixel % 2048] = color\n",
    "\n",
    "    fig = plt.figure(figsize=(34,16))\n",
    "    ax1 = fig.add_subplot(1, 2, 1)\n",
    "    ax1.imshow(cv2.cvtColor(img, cv2.COLOR_BGR2RGB))\n",
    "    ax1.axis(\"off\")\n",
    "    \n",
    "    ax2 = fig.add_subplot(1, 2, 2)\n",
    "    ax2.imshow(cv2.cvtColor(result_img, cv2.COLOR_BGR2RGB))\n",
    "    ax2.axis(\"off\")\n",
    "    \n",
    "    plt.show()\n",
    "\n"
   ]
  }
 ],
 "metadata": {
  "kernelspec": {
   "display_name": "base",
   "language": "python",
   "name": "python3"
  },
  "language_info": {
   "codemirror_mode": {
    "name": "ipython",
    "version": 3
   },
   "file_extension": ".py",
   "mimetype": "text/x-python",
   "name": "python",
   "nbconvert_exporter": "python",
   "pygments_lexer": "ipython3",
   "version": "3.8.5"
  },
  "orig_nbformat": 4
 },
 "nbformat": 4,
 "nbformat_minor": 2
}
